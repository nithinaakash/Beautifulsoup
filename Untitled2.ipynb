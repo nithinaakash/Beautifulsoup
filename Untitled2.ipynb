{
 "cells": [
  {
   "cell_type": "code",
   "execution_count": null,
   "metadata": {},
   "outputs": [],
   "source": [
    "from tkinter import *\n",
    "from tkinter import ttk\n",
    "\n",
    "class App(Frame):\n",
    "    def __init__(self,*args,**kwargs):\n",
    "       Frame.__init__(self,*args,**kwargs)\n",
    "       self.label = Label(self, text=\"Hi This is Tab1\")\n",
    "       self.notebook = ttk.Notebook()\n",
    "       self.add_tab()\n",
    "       self.notebook.grid(row=0)\n",
    "\n",
    "    def add_tab(self):\n",
    "        tab = Area(self.notebook)\n",
    "        tab2 = Volume(self.notebook) \n",
    "        self.notebook.add(tab,text=\"Tag\")\n",
    "        self.notebook.add(tab2,text=\"Tag2\")\n",
    "\n",
    "\n",
    "class Area(Frame):\n",
    "   def __init__(self,name,*args,**kwargs):\n",
    "       Frame.__init__(self,*args,**kwargs)\n",
    "       self.label = Label(text=\"Hi This is Tab1\")\n",
    "       self.label.grid(row=1,column=0,padx=10,pady=10)\n",
    "       self.name = name\n",
    "\n",
    "class Volume(Frame):\n",
    "   def __init__(self,name,*args,**kwargs):\n",
    "       Frame.__init__(self,*args,**kwargs)\n",
    "       self.label = Label(text=\"Hi This is Tab2\")\n",
    "       self.label.grid(row=1,column=0,padx=10,pady=10)\n",
    "       self.name = name\n",
    "\n",
    "my_app = App()\n",
    "my_app.mainloop()"
   ]
  },
  {
   "cell_type": "code",
   "execution_count": null,
   "metadata": {},
   "outputs": [],
   "source": []
  }
 ],
 "metadata": {
  "kernelspec": {
   "display_name": "Python 3",
   "language": "python",
   "name": "python3"
  },
  "language_info": {
   "codemirror_mode": {
    "name": "ipython",
    "version": 3
   },
   "file_extension": ".py",
   "mimetype": "text/x-python",
   "name": "python",
   "nbconvert_exporter": "python",
   "pygments_lexer": "ipython3",
   "version": "3.7.3"
  }
 },
 "nbformat": 4,
 "nbformat_minor": 2
}
