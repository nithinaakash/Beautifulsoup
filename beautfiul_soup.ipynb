{
 "cells": [
  {
   "cell_type": "code",
   "execution_count": 43,
   "metadata": {},
   "outputs": [
    {
     "name": "stdout",
     "output_type": "stream",
     "text": [
      "<p>So many famous (or even not so famous) bloggers, marketers and online entrepreneurs have said some very interesting things. The following quotes are meant to give you valuable advice, inspiration – and motivate you to take action and start.</p>\n",
      "<h2>“Opportunities don’t happen, you create them.”<a href=\"https://blog.thesocialms.com/wp-content/uploads/2018/06/Quote-Chris-Grosser.png\"><img alt=\"Quote Chris Grosser\" class=\"alignright wp-image-8635\" height=\"375\" sizes=\"(max-width: 250px) 100vw, 250px\" src=\"https://blog.thesocialms.com/wp-content/uploads/2018/06/Quote-Chris-Grosser.png\" srcset=\"https://blog.thesocialms.com/wp-content/uploads/2018/06/Quote-Chris-Grosser.png 735w, https://blog.thesocialms.com/wp-content/uploads/2018/06/Quote-Chris-Grosser-200x300.png 200w, https://blog.thesocialms.com/wp-content/uploads/2018/06/Quote-Chris-Grosser-683x1024.png 683w\" width=\"250\"/></a></h2>\n"
     ]
    }
   ],
   "source": [
    "import requests \n",
    "from bs4 import BeautifulSoup \n",
    "import csv \n",
    "  \n",
    "URL = \"https://blog.thesocialms.com/24-blogging-quotes-inspiration-motivation-perspective/\"\n",
    "r = requests.get(URL) \n",
    "soup = BeautifulSoup(r.content)\n",
    "a=soup.find('p')\n",
    "b=soup.find('h2')\n",
    "c=soup.find('')\n",
    "ahref = \"https://blog.thesocialms.com/wp-content/uploads/2018/06/Quote-Chris-Grosser.png\"\n",
    "print(a) \n",
    "print(b)\n",
    "Html_file = open(\"graph.html\",\"w\")\n",
    "Html_file.write(\" bal\")\n",
    "Html_file.write(str(a))\n",
    "Html_file.write(str(b))\n",
    "Html_file.write(str(ahref))\n",
    "Html_file.close();\n",
    "\n",
    "# soup = BeautifulSoup(r.content, 'html5lib') \n",
    "\n",
    " "
   ]
  },
  {
   "cell_type": "code",
   "execution_count": null,
   "metadata": {},
   "outputs": [],
   "source": []
  }
 ],
 "metadata": {
  "kernelspec": {
   "display_name": "Python 3",
   "language": "python",
   "name": "python3"
  },
  "language_info": {
   "codemirror_mode": {
    "name": "ipython",
    "version": 3
   },
   "file_extension": ".py",
   "mimetype": "text/x-python",
   "name": "python",
   "nbconvert_exporter": "python",
   "pygments_lexer": "ipython3",
   "version": "3.7.3"
  }
 },
 "nbformat": 4,
 "nbformat_minor": 2
}
