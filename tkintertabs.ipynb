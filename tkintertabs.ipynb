{
 "cells": [
  {
   "cell_type": "code",
   "execution_count": null,
   "metadata": {},
   "outputs": [],
   "source": [
    "\n",
    " \n",
    "from tkinter import *\n",
    "from tkinter import ttk\n",
    "from bs4 import BeautifulSoup\n",
    "import urllib.request\n",
    "\n",
    "\n",
    "def func():\n",
    "\n",
    "    \n",
    "        url = \"https://www.pythonforbeginners.com\"\n",
    "\n",
    "        content = urllib.request.urlopen(url).read()\n",
    "        soup = BeautifulSoup(content,'html.parser')\n",
    "        text.insert(INSERT,[soup.get_text()])\n",
    " \n",
    "main =Tk()\n",
    "main.title('Notebook Demo')\n",
    "main.geometry('500x500')\n",
    " \n",
    " \n",
    "\n",
    "rows = 0\n",
    "while rows < 50:\n",
    "    main.rowconfigure(rows, weight=1)\n",
    "    main.columnconfigure(rows, weight=1)\n",
    "    rows += 1\n",
    " \n",
    "nb = ttk.Notebook(main)\n",
    "nb.grid(row=1, column=0, columnspan=50, rowspan=49, sticky='NESW')\n",
    "\n",
    "page1 = ttk.Frame(nb)\n",
    "nb.add(page1, text='Tab1')\n",
    "w = Button ( page1,text=\"Start\",command=lambda:func())\n",
    "\n",
    "w.pack()\n",
    "text=Text(page1)\n",
    "\n",
    "text.pack(expand=True, fill='both')\n",
    "page2 = ttk.Frame(nb)\n",
    "nb.add(page2, text='Tab2')\n",
    "page3 = ttk.Frame(nb)\n",
    "nb.add(page3, text='Tab3')\n",
    "\n",
    " \n",
    "main.mainloop()\n"
   ]
  },
  {
   "cell_type": "code",
   "execution_count": null,
   "metadata": {},
   "outputs": [],
   "source": []
  },
  {
   "cell_type": "code",
   "execution_count": null,
   "metadata": {},
   "outputs": [],
   "source": []
  }
 ],
 "metadata": {
  "kernelspec": {
   "display_name": "Python 3",
   "language": "python",
   "name": "python3"
  },
  "language_info": {
   "codemirror_mode": {
    "name": "ipython",
    "version": 3
   },
   "file_extension": ".py",
   "mimetype": "text/x-python",
   "name": "python",
   "nbconvert_exporter": "python",
   "pygments_lexer": "ipython3",
   "version": "3.7.3"
  }
 },
 "nbformat": 4,
 "nbformat_minor": 2
}
